{
 "cells": [
  {
   "cell_type": "markdown",
   "id": "17318812",
   "metadata": {},
   "source": [
    "This is from [Link](https://www.econometrics-with-r.org/3-1-estimation-of-the-population-mean.html)..."
   ]
  },
  {
   "cell_type": "markdown",
   "id": "fd3149e6",
   "metadata": {},
   "source": [
    "Think of some economic variable, for example hourly earnings of college graduates, denoted by $Y$. Suppose we are interested in $\\mu_Y$ the mean of $Y$. In order to exactly calculate $\\mu_Y$ we would have to interview every working graduate in the economy. We simply cannot do this due to time and cost constraints. However, we can draw a random sample of $n$ i.i.d. observations $Y_1, \\dots, Y_n$ and estimate $\\mu_Y$ using one of the simplest estimators in the sense of Key Concept 3.1 one can think of, that is,\n",
    "\n",
    "$$ \\overline{Y} = \\frac{1}{n} \\sum_{i=1}^n Y_i, $$\n",
    "\n",
    "the sample mean of $Y$. Then again, we could use an even simpler estimator for $\\mu_Y$: the very first observation in the sample, $Y_1$. Is $Y_1$ a good estimator? For now, assume that \n",
    "\n",
    "$$ Y \\sim \\chi_{12}^2 $$\n",
    "\n",
    "which is not too unreasonable as hourly income is non-negative and we expect many hourly earnings to be in a range of $5€\\,$ to $15€$. Moreover, it is common for income distributions to be skewed to the right --- a property of the $\\chi^2_{12}$ distribution. "
   ]
  },
  {
   "cell_type": "code",
   "execution_count": 1,
   "id": "56339a21",
   "metadata": {},
   "outputs": [
    {
     "data": {
      "image/png": "[encoded data removed]",
      "text/plain": [
       "plot without title"
      ]
     },
     "metadata": {
      "image/png": {
       "height": 420,
       "width": 420
      }
     },
     "output_type": "display_data"
    }
   ],
   "source": [
    "# plot the chi_12^2 distribution\n",
    "curve(dchisq(x, df=12), \n",
    "      from = 0, \n",
    "      to = 40, \n",
    "      ylab = \"density\", \n",
    "      xlab = \"hourly earnings in Euro\")"
   ]
  },
  {
   "cell_type": "markdown",
   "id": "c1deb771",
   "metadata": {},
   "source": [
    "We now draw a sample of $n=100$ observations and take the first observation $Y_1$ as an estimate for $\\mu_Y$"
   ]
  },
  {
   "cell_type": "code",
   "execution_count": 2,
   "id": "f1811385",
   "metadata": {},
   "outputs": [
    {
     "data": {
      "text/html": [
       "8.25789336178951"
      ],
      "text/latex": [
       "8.25789336178951"
      ],
      "text/markdown": [
       "8.25789336178951"
      ],
      "text/plain": [
       "[1] 8.257893"
      ]
     },
     "metadata": {},
     "output_type": "display_data"
    }
   ],
   "source": [
    "# set seed for reproducibility\n",
    "set.seed(1)\n",
    "\n",
    "# sample from the chi_12^2 distribution, use only the first observation\n",
    "rsamp <- rchisq(n = 100, df = 12)\n",
    "rsamp[1]"
   ]
  },
  {
   "cell_type": "markdown",
   "id": "b95345bb",
   "metadata": {},
   "source": [
    "The estimate $8.26$ is not too far away from $\\mu_Y = 12$ but it is somewhat intuitive that we could do better: the estimator $Y_1$ discards a lot of information and its variance is the population variance: \n",
    "\n",
    "$$ \\text{Var}(Y_1) = \\text{Var}(Y) = 2 \\cdot 12 = 24 $$\n",
    "\n",
    "This brings us to the following question: What is a *good* estimator of an unknown parameter in the first place? This question is tackled in Key Concepts 3.2 and 3.3."
   ]
  },
  {
   "cell_type": "code",
   "execution_count": null,
   "id": "ade5a138",
   "metadata": {},
   "outputs": [],
   "source": []
  }
 ],
 "metadata": {
  "kernelspec": {
   "display_name": "R",
   "language": "R",
   "name": "ir"
  },
  "language_info": {
   "codemirror_mode": "r",
   "file_extension": ".r",
   "mimetype": "text/x-r-source",
   "name": "R",
   "pygments_lexer": "r",
   "version": "3.6.2"
  }
 },
 "nbformat": 4,
 "nbformat_minor": 5
}
